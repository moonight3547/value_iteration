{
 "cells": [
  {
   "cell_type": "markdown",
   "id": "fce83025",
   "metadata": {},
   "source": [
    "# Value Iteration\n"
   ]
  },
  {
   "cell_type": "code",
   "execution_count": 70,
   "id": "8c1cf628",
   "metadata": {},
   "outputs": [
    {
     "name": "stdout",
     "output_type": "stream",
     "text": [
      "Action Space: Discrete(4)\n",
      "Observation Space: Discrete(16)\n",
      "Max Episode Steps: 100\n",
      "Nondeterministic: False\n",
      "Reward Range: (0, 1)\n",
      "Reward Threshold: 0.7\n"
     ]
    }
   ],
   "source": [
    "import gym\n",
    "import time\n",
    "import numpy as np\n",
    "import matplotlib.pyplot as plt\n",
    "import warnings\n",
    "\n",
    "if not hasattr(np, 'bool8'):\n",
    "    np.bool8 = np.bool_\n",
    "warnings.filterwarnings('ignore')\n",
    "\n",
    "def query_environment(name):\n",
    "  env = gym.make(name)\n",
    "  spec = gym.spec(name)\n",
    "  print(f\"Action Space: {env.action_space}\")\n",
    "  print(f\"Observation Space: {env.observation_space}\")\n",
    "  print(f\"Max Episode Steps: {spec.max_episode_steps}\")\n",
    "  print(f\"Nondeterministic: {spec.nondeterministic}\")\n",
    "  print(f\"Reward Range: {env.reward_range}\")\n",
    "  print(f\"Reward Threshold: {spec.reward_threshold}\")\n",
    "\n",
    "query_environment(\"FrozenLake-v1\")"
   ]
  },
  {
   "cell_type": "code",
   "execution_count": 96,
   "id": "4ee7decf",
   "metadata": {},
   "outputs": [],
   "source": [
    "def valueIteration(env, gamma=1.0, iteration=10000, eps=1e-20):\n",
    "    value = np.zeros(16)\n",
    "    # Start Iteration\n",
    "    for i in range(iteration):\n",
    "        previous_value = value.copy()\n",
    "        for state in range(16):\n",
    "            Q = []\n",
    "            for action in range(4):\n",
    "                outcomes  = []\n",
    "                # TODO: Loop through all outcomes of performing that action and calculate the Q values\n",
    "                for probability, nextstate, reward, done in env.P[state][action]:\n",
    "                    outcomes.append(probability * (reward + gamma * previous_value[nextstate]))\n",
    "                Q.append(np.sum(outcomes))\n",
    "            # TODO: Calculate the value function\n",
    "            value[state] = np.max(Q)\n",
    "#        print(value)\n",
    "        if (np.sum(np.fabs(previous_value - value)) <= eps):\n",
    "            return value\n",
    "    print(\"Iterated over %d Iterations and couldn't converge\"%(iteration))\n",
    "    return value"
   ]
  },
  {
   "cell_type": "code",
   "execution_count": 86,
   "id": "7393d313",
   "metadata": {},
   "outputs": [],
   "source": [
    "def calculatePolicy(env, v, gamma=1.0):\n",
    "    value = v.copy()\n",
    "    policy = np.zeros(16, dtype=int)\n",
    "    for state in range(16):\n",
    "        Q = []\n",
    "        for action in range(4):\n",
    "            # Reset all outcomes of this particular action\n",
    "                outcomes  = []\n",
    "                # TODO: Loop through all outcomes of performing that action and calculate the Q values\n",
    "                for probability, nextstate, reward, done in env.P[state][action]:\n",
    "#                    print(state, action, nextstate, probability, reward, done)\n",
    "                    outcomes.append(probability * (reward + gamma * value[nextstate]))\n",
    "                Q.append(np.sum(outcomes))\n",
    "        # TODO: extract policy\n",
    "        policy[state] = np.argmax(Q)\n",
    "        #print(np.argmax(Q), policy[state], \"Q: \", Q)\n",
    "    # Step 9: Return policy\n",
    "    return policy"
   ]
  },
  {
   "cell_type": "code",
   "execution_count": 87,
   "id": "77d295ad",
   "metadata": {},
   "outputs": [],
   "source": [
    "def evaluatePolicyOnce(env, policy, gamma=1.0, eps=1e-20):\n",
    "    totalReward = 0\n",
    "    step = 0\n",
    "    state, _ = env.reset()\n",
    "    done = False\n",
    "    discount = 1\n",
    "    while not done:\n",
    "        action = policy[state]\n",
    "        state, reward, terminated, truncated, _ = env.step(action)\n",
    "        done = terminated or truncated\n",
    "        #print(f\"Step {step}: State {state}, Action {action}, Reward {reward}, Done {done}\")\n",
    "        totalReward += reward * discount\n",
    "        discount *= gamma\n",
    "        step += 1\n",
    "    return totalReward\n",
    "\n",
    "def evaluatePolicy(env, policy, gamma=1.0, iteration=100, render=False, eps=1e-20):\n",
    "    scores = [evaluatePolicyOnce(env, policy, gamma, eps) for _ in range(iteration)]\n",
    "    return scores"
   ]
  },
  {
   "cell_type": "code",
   "execution_count": 75,
   "id": "0e334d9c",
   "metadata": {},
   "outputs": [],
   "source": [
    "def ValueIterator(env, gamma=1.0, improvementIterations=1000, evaluationIterations=100, eps=1e-20):\n",
    "    startTime = time.time()\n",
    "    optimalValue = valueIteration(env, gamma, improvementIterations, eps)\n",
    "    policy = calculatePolicy(env, optimalValue, gamma)\n",
    "    endTime = time.time()\n",
    "    scores = evaluatePolicy(env, policy, gamma, evaluationIterations, eps)\n",
    "    print('Mean score = %0.2f. Standard Deviation = %0.2f. Best score = %0.2f. Time taken = %4.4f seconds'%(np.mean(scores), np.std(scores), np.max(scores), endTime - startTime))\n",
    "    print('Score obtained', scores)\n",
    "    print('Mean score = %0.2f.'%(np.mean(scores)))\n",
    "    print('Best score = %0.2f.'%(np.max(scores)))\n"
   ]
  },
  {
   "cell_type": "code",
   "execution_count": 94,
   "id": "15e06aae",
   "metadata": {},
   "outputs": [
    {
     "name": "stdout",
     "output_type": "stream",
     "text": [
      "Mean score = 0.75. Standard Deviation = 0.43. Best score = 1.00. Time taken = 0.2579 seconds\n",
      "Score obtained [1.0, 1.0, 1.0, 1.0, 1.0, 1.0, 1.0, 0.0, 1.0, 1.0, 1.0, 1.0, 1.0, 0.0, 1.0, 0.0, 1.0, 1.0, 1.0, 1.0, 1.0, 1.0, 1.0, 1.0, 1.0, 0.0, 0.0, 0.0, 1.0, 1.0, 1.0, 1.0, 0.0, 1.0, 1.0, 1.0, 0.0, 1.0, 0.0, 1.0, 0.0, 1.0, 1.0, 1.0, 0.0, 1.0, 1.0, 1.0, 0.0, 1.0, 1.0, 1.0, 0.0, 1.0, 1.0, 1.0, 1.0, 0.0, 1.0, 1.0, 1.0, 1.0, 0.0, 1.0, 1.0, 1.0, 1.0, 0.0, 0.0, 1.0, 1.0, 1.0, 1.0, 1.0, 0.0, 1.0, 1.0, 0.0, 1.0, 1.0, 1.0, 1.0, 1.0, 1.0, 1.0, 1.0, 1.0, 0.0, 1.0, 1.0, 1.0, 1.0, 0.0, 0.0, 1.0, 1.0, 0.0, 1.0, 0.0, 0.0]\n",
      "Mean score = 0.75.\n",
      "Best score = 1.00.\n"
     ]
    }
   ],
   "source": [
    "gamma = 1.0\n",
    "game = 'FrozenLake-v1'\n",
    "#SFFF       (S: starting point, safe)\n",
    "#FHFH       (F: frozen surface, safe)\n",
    "#FFFH       (H: hole, fall to your doom)\n",
    "#HFFG       (G: goal, where the frisbee is located)\n",
    "improvementIterations = 10000\n",
    "evaluationIterations = 100\n",
    "eps = 1e-20\n",
    "np.random.seed(0)\n",
    "env = gym.make(game)\n",
    "env.reset(seed=3547)\n",
    "ValueIterator(env=env, gamma=gamma, evaluationIterations=evaluationIterations, improvementIterations=improvementIterations, eps=eps)"
   ]
  },
  {
   "cell_type": "code",
   "execution_count": 142,
   "id": "ff88d7ef",
   "metadata": {},
   "outputs": [],
   "source": [
    "class ValueIterationAgent:\n",
    "    def __init__(self, env, gamma=1.0, iters=10000, eval_iters=100, eps=1e-20, seed=3547):\n",
    "        self.env = env\n",
    "        self.env.reset(seed=seed)\n",
    "        self.gamma = gamma\n",
    "        self.iters = iters\n",
    "        self.eval_iters = eval_iters\n",
    "        self.eps = eps\n",
    "        self.num_states = env.observation_space.n\n",
    "        self.num_actions = env.action_space.n\n",
    "        self.Q = np.zeros((self.num_states, self.num_actions))\n",
    "        self.time_cost = \"Unknown\"\n",
    "\n",
    "    def value_iteration(self):\n",
    "        self.value = np.zeros(self.num_states)\n",
    "        # Start Iteration\n",
    "        for i in range(self.iters):\n",
    "            prev_value = self.value.copy()\n",
    "            for state in range(self.num_states):\n",
    "                Q = []\n",
    "                for action in range(self.num_actions):\n",
    "                    outcomes = []\n",
    "                    for prob, next_state, reward, done in self.env.P[state][action]:\n",
    "                        outcomes.append(prob * (reward + self.gamma * prev_value[next_state]))\n",
    "                    Q.append(np.sum(outcomes))\n",
    "                self.Q[state] = Q\n",
    "                self.value[state] = np.max(Q)\n",
    "            if (np.sum(np.fabs(prev_value - self.value)) <= self.eps):\n",
    "                return self.value\n",
    "        print(\"\\033[31m[Warning]\\033[0m Iterated over %d Iterations and couldn't converge\"%(self.iters))\n",
    "    \n",
    "    def get_policy(self):\n",
    "        self.policy = np.zeros(self.num_states, dtype=int)\n",
    "        for state in range(self.num_states):\n",
    "            Q = []\n",
    "            for action in range(self.num_actions):\n",
    "                outcomes = []\n",
    "                for prob, next_state, reward, done in self.env.P[state][action]:\n",
    "                    outcomes.append(prob * (reward + self.gamma * self.value[next_state]))\n",
    "                Q.append(np.sum(outcomes))\n",
    "            self.Q[state] = Q\n",
    "            self.policy[state] = np.argmax(Q)\n",
    "\n",
    "    def get_trajectory(self):\n",
    "        tot_reward = 0\n",
    "        discount = 1\n",
    "        step, done = 0, False\n",
    "        state, _ = self.env.reset()\n",
    "        while not done:\n",
    "            action = self.policy[state]\n",
    "            state, reward, terminated, truncated, _ = self.env.step(action)\n",
    "            done = terminated or truncated\n",
    "            tot_reward += reward * discount\n",
    "            discount *= self.gamma\n",
    "            step += 1\n",
    "        return tot_reward\n",
    "\n",
    "    def eval_policy(self):\n",
    "        scores = [self.get_trajectory() for _ in range(self.eval_iters)]\n",
    "        self.mean_score = np.mean(scores)\n",
    "        self.std_score = np.std(scores)\n",
    "        self.best_score = np.max(scores)\n",
    "        print(\"Mean score = %0.2f. Standard Deviation = %0.2f. Best score = %0.2f. Time taken = %4.4f seconds\"%\\\n",
    "              (self.mean_score, self.std_score, self.best_score, self.time_cost))\n",
    "    \n",
    "    def run(self):\n",
    "        startTime = time.time()\n",
    "        self.value_iteration()\n",
    "        self.get_policy()\n",
    "        endTime = time.time()\n",
    "        self.time_cost = endTime - startTime\n",
    "        self.eval_policy()\n",
    "    \n",
    "    def plot_values(self):\n",
    "        # Reshape the value function to a 4x4 grid for visualization\n",
    "        value_sq = np.reshape(self.value, (4, 4))\n",
    "        fig = plt.figure(figsize=(8, 8))\n",
    "        ax = fig.add_subplot(111)\n",
    "        im = ax.imshow(value_sq, cmap='cool')\n",
    "        for (j,i),label in np.ndenumerate(value_sq):\n",
    "            ax.text(i, j, np.round(label, 5), ha='center', va='center', fontsize=14)\n",
    "        plt.tick_params(bottom=False, left=False, labelbottom=False, labelleft=False)\n",
    "        plt.title('State-Value Function')\n",
    "        plt.show()\n",
    "    "
   ]
  },
  {
   "cell_type": "code",
   "execution_count": 143,
   "id": "630fcf27",
   "metadata": {},
   "outputs": [
    {
     "name": "stdout",
     "output_type": "stream",
     "text": [
      "Mean score = 0.78. Standard Deviation = 0.41. Best score = 1.00. Time taken = 0.2598 seconds\n",
      "Optimal Policy:  [0 3 3 3 0 0 0 0 3 1 0 0 0 2 1 0]\n",
      "Optimal Value:  [0.82352941 0.82352941 0.82352941 0.82352941 0.82352941 0.\n",
      " 0.52941176 0.         0.82352941 0.82352941 0.76470588 0.\n",
      " 0.         0.88235294 0.94117647 0.        ]\n"
     ]
    },
    {
     "data": {
      "image/png": "[encoded data removed]",
      "text/plain": [
       "<Figure size 800x800 with 1 Axes>"
      ]
     },
     "metadata": {},
     "output_type": "display_data"
    }
   ],
   "source": [
    "game = 'FrozenLake-v1'\n",
    "VI = ValueIterationAgent(env=gym.make(game), gamma=1, iters=10000, eval_iters=100, eps=1e-20, seed=233333)\n",
    "VI.run()\n",
    "print(\"Optimal Policy: \", VI.policy)\n",
    "print(\"Optimal Value: \", VI.value)\n",
    "VI.plot_values()\n"
   ]
  },
  {
   "cell_type": "code",
   "execution_count": 95,
   "id": "f8a37ffc",
   "metadata": {},
   "outputs": [
    {
     "data": {
      "image/png": "[encoded data removed]",
      "text/plain": [
       "<Figure size 600x600 with 1 Axes>"
      ]
     },
     "metadata": {},
     "output_type": "display_data"
    }
   ],
   "source": [
    "def plot_values(V):\n",
    "\t# reshape value function\n",
    "\tV_sq = np.reshape(V, (4,4))\n",
    "\n",
    "\t# plot the state-value function\n",
    "\tfig = plt.figure(figsize=(6, 6))\n",
    "\tax = fig.add_subplot(111)\n",
    "\tim = ax.imshow(V_sq, cmap='cool')\n",
    "\tfor (j,i),label in np.ndenumerate(V_sq):\n",
    "\t    ax.text(i, j, np.round(label, 5), ha='center', va='center', fontsize=14)\n",
    "\tplt.tick_params(bottom=False, left=False, labelbottom=False, labelleft=False)\n",
    "\tplt.title('State-Value Function')\n",
    "\tplt.show()\n",
    "\n",
    "optimalValue = valueIteration(env, gamma, improvementIterations, eps)\n",
    "plot_values(optimalValue)"
   ]
  }
 ],
 "metadata": {
  "kernelspec": {
   "display_name": "dda4230rl",
   "language": "python",
   "name": "python3"
  },
  "language_info": {
   "codemirror_mode": {
    "name": "ipython",
    "version": 3
   },
   "file_extension": ".py",
   "mimetype": "text/x-python",
   "name": "python",
   "nbconvert_exporter": "python",
   "pygments_lexer": "ipython3",
   "version": "3.10.16"
  }
 },
 "nbformat": 4,
 "nbformat_minor": 5
}
